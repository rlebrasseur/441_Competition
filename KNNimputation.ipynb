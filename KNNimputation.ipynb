{
 "cells": [
  {
   "cell_type": "code",
   "execution_count": 1,
   "id": "92e010a0-198f-471b-951d-37096be8e1ac",
   "metadata": {},
   "outputs": [],
   "source": [
    "import numpy as np\n",
    "import pandas as pd\n",
    "\n",
    "\n",
    "def which(self):\n",
    "    try:\n",
    "        self = list(iter(self))\n",
    "    except TypeError as e:\n",
    "        raise Exception(\"\"\"'which' method can only be applied to iterables.\n",
    "        {}\"\"\".format(str(e)))\n",
    "    indices = [i for i, x in enumerate(self) if bool(x) == True]\n",
    "    return(indices)\n",
    "\n",
    "cb = pd.read_csv(\"codebook-reworked.csv\")\n",
    "vartype = cb.vartype\n",
    "vartype = vartype[which(vartype != 0)]\n",
    "index = 0\n",
    "numeric = []\n",
    "categorical = []\n",
    "for i in vartype:\n",
    "    if i in [1,2,4,5]:\n",
    "        numeric.append(index)\n",
    "    if i == 3:\n",
    "        categorical.append(index)\n",
    "    index = index + 1"
   ]
  },
  {
   "cell_type": "code",
   "execution_count": 2,
   "id": "d7626f8c-6bf1-422f-9785-b52fb10d45f1",
   "metadata": {},
   "outputs": [],
   "source": [
    "df = pd.read_csv(\"train.csv\")\n",
    "group = df[\"personid\"]\n",
    "df = df.drop(['uniqueid', 'personid'], axis=1)\n",
    "df = df.dropna(axis=1, how='all')\n",
    "\n",
    "X = df.drop([\"health\"], axis=1)\n",
    "colnames_train = X.columns\n",
    "\n",
    "test = pd.read_csv(\"test.csv\")\n",
    "test = test.dropna(axis=1, how='all')\n",
    "uniqueid = test['uniqueid']\n",
    "test = test.drop(['uniqueid', 'personid'], axis=1)\n",
    "colnames_test = test.columns\n",
    "\n",
    "rm_train = set(colnames_train) - set(colnames_test)\n",
    "rm_test = set(colnames_test) - set(colnames_train)\n",
    "\n",
    "X = X.drop(list(rm_train), axis=1)\n",
    "test = test.drop(list(rm_test), axis=1)\n",
    "\n",
    "y = df[\"health\"]"
   ]
  },
  {
   "cell_type": "code",
   "execution_count": 3,
   "id": "039f5e3c-6e7f-46ec-bdf7-82921f17840e",
   "metadata": {},
   "outputs": [],
   "source": [
    "from sklearn.compose import ColumnTransformer\n",
    "from sklearn.impute import SimpleImputer\n",
    "from sklearn.preprocessing import OneHotEncoder\n",
    "from sklearn.preprocessing import MinMaxScaler\n",
    "from sklearn.pipeline import Pipeline\n",
    "from sklearn.impute import KNNImputer\n",
    "\n",
    "# creating a pipeline to process data.\n",
    "# numerical data is imputed using knn and scaled to be in [0,1].\n",
    "# categorical data is imputed by treating NA as a seperate category and one hot encoded.\n",
    "\n",
    "numeric_pipe = Pipeline([('imputer', KNNImputer(n_neighbors=5)), ('scaler', MinMaxScaler())])\n",
    "categorical_pipe = Pipeline([('imputer', SimpleImputer(strategy='constant', fill_value=9999999)), ('ohe', OneHotEncoder())])\n",
    "t = [('cat', categorical_pipe, categorical), ('num', numeric_pipe, numeric)]\n",
    "col_transform = ColumnTransformer(transformers=t)\n",
    "X = col_transform.fit_transform(X)"
   ]
  },
  {
   "cell_type": "code",
   "execution_count": 11,
   "id": "eae344da-9960-480b-ba92-88ac48c14515",
   "metadata": {},
   "outputs": [
    {
     "name": "stdout",
     "output_type": "stream",
     "text": [
      "Fitting 5 folds for each of 3 candidates, totalling 15 fits\n"
     ]
    },
    {
     "name": "stderr",
     "output_type": "stream",
     "text": [
      "[Parallel(n_jobs=-1)]: Using backend LokyBackend with 64 concurrent workers.\n",
      "[Parallel(n_jobs=-1)]: Done   2 out of  15 | elapsed: 14.0min remaining: 90.8min\n",
      "[Parallel(n_jobs=-1)]: Done   8 out of  15 | elapsed: 15.0min remaining: 13.1min\n",
      "[Parallel(n_jobs=-1)]: Done  15 out of  15 | elapsed: 18.4min finished\n"
     ]
    },
    {
     "name": "stdout",
     "output_type": "stream",
     "text": [
      "-1.2080578882910626\n",
      "{'hidden_layer_sizes': 1350}\n"
     ]
    }
   ],
   "source": [
    "from sklearn.neural_network import MLPClassifier\n",
    "from sklearn.model_selection import GridSearchCV\n",
    "from sklearn.model_selection import GroupKFold\n",
    "\n",
    "# Testing parameters for neural network.\n",
    "\n",
    "model = MLPClassifier(random_state=20803652, learning_rate_init=0.01, hidden_layer_sizes=1350, max_iter=1000)\n",
    "param_grid = dict(alpha=[0.4, 0.45, 0.5])\n",
    "gkf = GroupKFold(n_splits=5).split(X, y, group)\n",
    "grid = GridSearchCV(estimator=model, param_grid=param_grid, scoring=\"neg_log_loss\", cv=gkf, n_jobs=-1, verbose=3)\n",
    "grid_result = grid.fit(X, y)\n",
    "print(grid_result.best_score_)\n",
    "print(grid_result.best_params_)"
   ]
  }
 ],
 "metadata": {
  "kernelspec": {
   "display_name": "Python 3",
   "language": "python",
   "name": "python3"
  },
  "language_info": {
   "codemirror_mode": {
    "name": "ipython",
    "version": 3
   },
   "file_extension": ".py",
   "mimetype": "text/x-python",
   "name": "python",
   "nbconvert_exporter": "python",
   "pygments_lexer": "ipython3",
   "version": "3.7.10"
  }
 },
 "nbformat": 4,
 "nbformat_minor": 5
}

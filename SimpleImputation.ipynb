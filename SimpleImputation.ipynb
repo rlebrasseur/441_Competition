{
 "cells": [
  {
   "cell_type": "code",
   "execution_count": 1,
   "id": "ae6bf9e9-1960-44de-a77b-43c27cf92f78",
   "metadata": {},
   "outputs": [],
   "source": [
    "import numpy as np\n",
    "import pandas as pd\n",
    "\n",
    "def which(self):\n",
    "    try:\n",
    "        self = list(iter(self))\n",
    "    except TypeError as e:\n",
    "        raise Exception(\"\"\"'which' method can only be applied to iterables.\n",
    "        {}\"\"\".format(str(e)))\n",
    "    indices = [i for i, x in enumerate(self) if bool(x) == True]\n",
    "    return(indices)\n",
    "\n",
    "cb = pd.read_csv(\"codebook-reworked.csv\")\n",
    "vartype = cb.vartype\n",
    "vartype = vartype[which(vartype != 0)]\n",
    "index = 0\n",
    "numeric = []\n",
    "categorical = []\n",
    "for i in vartype:\n",
    "    if i in [1,2,4,5]:\n",
    "        numeric.append(index)\n",
    "    if i == 3:\n",
    "        categorical.append(index)\n",
    "    index = index + 1"
   ]
  },
  {
   "cell_type": "code",
   "execution_count": 2,
   "id": "3d91a0dd-dc3e-4e4b-ab73-866daa359ab7",
   "metadata": {},
   "outputs": [],
   "source": [
    "df = pd.read_csv(\"train.csv\")\n",
    "group = df[\"personid\"]\n",
    "df = df.drop(['uniqueid', 'personid'], axis=1)\n",
    "df = df.dropna(axis=1, how='all')\n",
    "\n",
    "X = df.drop([\"health\"], axis=1)\n",
    "colnames_train = X.columns\n",
    "\n",
    "test = pd.read_csv(\"test.csv\")\n",
    "test = test.dropna(axis=1, how='all')\n",
    "uniqueid = test['uniqueid']\n",
    "test = test.drop(['uniqueid', 'personid'], axis=1)\n",
    "colnames_test = test.columns\n",
    "\n",
    "rm_train = set(colnames_train) - set(colnames_test)\n",
    "rm_test = set(colnames_test) - set(colnames_train)\n",
    "\n",
    "X = X.drop(list(rm_train), axis=1)\n",
    "test = test.drop(list(rm_test), axis=1)\n",
    "\n",
    "y = df[\"health\"]"
   ]
  },
  {
   "cell_type": "code",
   "execution_count": 3,
   "id": "b81d3c41-66b9-47d4-876f-e842d1b237aa",
   "metadata": {},
   "outputs": [],
   "source": [
    "from sklearn.compose import ColumnTransformer\n",
    "from sklearn.impute import SimpleImputer\n",
    "from sklearn.preprocessing import OneHotEncoder\n",
    "from sklearn.preprocessing import MinMaxScaler\n",
    "from sklearn.pipeline import Pipeline\n",
    "\n",
    "# creating a pipeline to process data.\n",
    "# numerical data is imputed using the mean and scaled to be in [0,1].\n",
    "# categorical data is imputed by treating NA as a seperate category and one hot encoded.\n",
    "\n",
    "numeric_pipe = Pipeline([('imputer', SimpleImputer(strategy='mean')), ('scaler', MinMaxScaler())])\n",
    "categorical_pipe = Pipeline([('imputer', SimpleImputer(strategy='constant', fill_value=9999999)), ('ohe', OneHotEncoder())])\n",
    "t = [('cat', categorical_pipe, categorical), ('num', numeric_pipe, numeric)]\n",
    "col_transform = ColumnTransformer(transformers=t)\n",
    "X = col_transform.fit_transform(X)"
   ]
  },
  {
   "cell_type": "code",
   "execution_count": 4,
   "id": "27199e2c-5c71-4eee-ae96-ac7fb5b35b16",
   "metadata": {},
   "outputs": [
    {
     "name": "stdout",
     "output_type": "stream",
     "text": [
      "Fitting 5 folds for each of 3 candidates, totalling 15 fits\n"
     ]
    },
    {
     "name": "stderr",
     "output_type": "stream",
     "text": [
      "[Parallel(n_jobs=-1)]: Using backend LokyBackend with 64 concurrent workers.\n",
      "[Parallel(n_jobs=-1)]: Done   2 out of  15 | elapsed:  7.3min remaining: 47.3min\n",
      "[Parallel(n_jobs=-1)]: Done   8 out of  15 | elapsed: 10.5min remaining:  9.2min\n",
      "[Parallel(n_jobs=-1)]: Done  15 out of  15 | elapsed: 12.4min finished\n"
     ]
    },
    {
     "name": "stdout",
     "output_type": "stream",
     "text": [
      "-1.1852872058425632\n",
      "{'learning_rate_init': 0.01}\n"
     ]
    }
   ],
   "source": [
    "from sklearn.neural_network import MLPClassifier\n",
    "from sklearn.model_selection import GridSearchCV\n",
    "from sklearn.model_selection import GroupKFold\n",
    "\n",
    "# Testing parameters for neural network.\n",
    "\n",
    "model = MLPClassifier(random_state=20803652, alpha =0.4, hidden_layer_sizes=(1370), max_iter=1000)\n",
    "param_grid = dict(learning_rate_init=[0.005, 0.01, 0.02]) # parameters to be tested go here. Changed throughout process.\n",
    "gkf = GroupKFold(n_splits=5).split(X, y, group)\n",
    "grid = GridSearchCV(estimator=model, param_grid=param_grid, scoring=\"neg_log_loss\", cv=gkf, n_jobs=-1, verbose=3)\n",
    "grid_result = grid.fit(X, y)\n",
    "print(grid_result.best_score_)\n",
    "print(grid_result.best_params_)"
   ]
  },
  {
   "cell_type": "code",
   "execution_count": 5,
   "id": "4ad89646-1556-4440-b6d7-2acf69101b12",
   "metadata": {},
   "outputs": [
    {
     "name": "stdout",
     "output_type": "stream",
     "text": [
      "Fitting 5 folds for each of 3 candidates, totalling 15 fits\n"
     ]
    },
    {
     "name": "stderr",
     "output_type": "stream",
     "text": [
      "[Parallel(n_jobs=-1)]: Using backend LokyBackend with 64 concurrent workers.\n",
      "[Parallel(n_jobs=-1)]: Done   2 out of  15 | elapsed:  1.1min remaining:  7.0min\n",
      "[Parallel(n_jobs=-1)]: Done   8 out of  15 | elapsed:  1.1min remaining:   56.4s\n",
      "[Parallel(n_jobs=-1)]: Done  15 out of  15 | elapsed:  1.1min finished\n"
     ]
    },
    {
     "name": "stdout",
     "output_type": "stream",
     "text": [
      "-1.3127061417813286\n",
      "{'n_neighbors': 260}\n"
     ]
    }
   ],
   "source": [
    "from sklearn.neighbors import KNeighborsClassifier\n",
    "from sklearn.model_selection import GroupKFold\n",
    "from sklearn.model_selection import GridSearchCV\n",
    "\n",
    "# Testing parameters for nearest neighbours.\n",
    "\n",
    "X = col_transform.fit_transform(X)\n",
    "knn = KNeighborsClassifier(n_jobs=-1)\n",
    "param_grid = dict(n_neighbors=[250, 260, 270]) # parameters to be tested go here. Changed throughout process.\n",
    "gkf = GroupKFold(n_splits=5).split(X, y, group)\n",
    "grid = GridSearchCV(estimator=knn, param_grid=param_grid, scoring=\"neg_log_loss\", cv=gkf, n_jobs=-1, verbose=3)\n",
    "grid_result = grid.fit(X, y)\n",
    "print(grid_result.best_score_)\n",
    "print(grid_result.best_params_)"
   ]
  },
  {
   "cell_type": "code",
   "execution_count": 6,
   "id": "88b4412c-3b03-44a6-85b5-46162d15a76c",
   "metadata": {},
   "outputs": [
    {
     "name": "stdout",
     "output_type": "stream",
     "text": [
      "Fitting 5 folds for each of 1 candidates, totalling 5 fits\n"
     ]
    },
    {
     "name": "stderr",
     "output_type": "stream",
     "text": [
      "[Parallel(n_jobs=-1)]: Using backend LokyBackend with 64 concurrent workers.\n",
      "[Parallel(n_jobs=-1)]: Done   2 out of   5 | elapsed:  1.3min remaining:  1.9min\n",
      "[Parallel(n_jobs=-1)]: Done   5 out of   5 | elapsed:  1.3min finished\n"
     ]
    },
    {
     "name": "stdout",
     "output_type": "stream",
     "text": [
      "-1.291680601072605\n",
      "{'max_depth': 20}\n"
     ]
    }
   ],
   "source": [
    "from sklearn.ensemble import RandomForestClassifier\n",
    "from sklearn.model_selection import GroupKFold\n",
    "from sklearn.model_selection import GridSearchCV\n",
    "\n",
    "# Testing parameters for random forests.\n",
    "\n",
    "rf = RandomForestClassifier(random_state=20803652, n_estimators=3600, oob_score=True, n_jobs=-1)\n",
    "param_grid = dict(max_depth=[20]) # parameters to be tested go here. Changed throughout process.\n",
    "gkf = GroupKFold(n_splits=5).split(X, y, group)\n",
    "grid = GridSearchCV(estimator=rf, param_grid=param_grid, scoring=\"neg_log_loss\", cv=gkf, n_jobs=-1, verbose=3)\n",
    "grid_result = grid.fit(X, y)\n",
    "print(grid_result.best_score_)\n",
    "print(grid_result.best_params_)"
   ]
  },
  {
   "cell_type": "code",
   "execution_count": null,
   "id": "0dbd2a8d-b412-48a1-8274-1f1099e2d7c4",
   "metadata": {},
   "outputs": [],
   "source": []
  }
 ],
 "metadata": {
  "kernelspec": {
   "display_name": "Python 3",
   "language": "python",
   "name": "python3"
  },
  "language_info": {
   "codemirror_mode": {
    "name": "ipython",
    "version": 3
   },
   "file_extension": ".py",
   "mimetype": "text/x-python",
   "name": "python",
   "nbconvert_exporter": "python",
   "pygments_lexer": "ipython3",
   "version": "3.7.10"
  }
 },
 "nbformat": 4,
 "nbformat_minor": 5
}

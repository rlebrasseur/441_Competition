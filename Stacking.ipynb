{
 "cells": [
  {
   "cell_type": "code",
   "execution_count": 1,
   "id": "c60f80b7-96d3-443d-b727-c22d635770da",
   "metadata": {},
   "outputs": [],
   "source": [
    "import numpy as np\n",
    "import pandas as pd\n",
    "\n",
    "def which(self):\n",
    "    try:\n",
    "        self = list(iter(self))\n",
    "    except TypeError as e:\n",
    "        raise Exception(\"\"\"'which' method can only be applied to iterables.\n",
    "        {}\"\"\".format(str(e)))\n",
    "    indices = [i for i, x in enumerate(self) if bool(x) == True]\n",
    "    return(indices)\n",
    "\n",
    "cb = pd.read_csv(\"codebook-reworked.csv\")\n",
    "vartype = cb.vartype\n",
    "vartype = vartype[which(vartype != 0)]\n",
    "index = 0\n",
    "numeric = []\n",
    "categorical = []\n",
    "for i in vartype:\n",
    "    if i in [1,2,4,5]:\n",
    "        numeric.append(index)\n",
    "    if i == 3:\n",
    "        categorical.append(index)\n",
    "    index = index + 1"
   ]
  },
  {
   "cell_type": "code",
   "execution_count": 2,
   "id": "7acedaf4-dbef-478e-8ff5-c63c40948529",
   "metadata": {},
   "outputs": [],
   "source": [
    "df = pd.read_csv(\"train.csv\")\n",
    "group = df[\"personid\"]\n",
    "df = df.drop(['uniqueid', 'personid'], axis=1)\n",
    "df = df.dropna(axis=1, how='all')\n",
    "\n",
    "X = df.drop([\"health\"], axis=1)\n",
    "colnames_train = X.columns\n",
    "\n",
    "test = pd.read_csv(\"test.csv\")\n",
    "test = test.dropna(axis=1, how='all')\n",
    "uniqueid = test['uniqueid']\n",
    "test = test.drop(['uniqueid', 'personid'], axis=1)\n",
    "colnames_test = test.columns\n",
    "\n",
    "rm_train = set(colnames_train) - set(colnames_test)\n",
    "rm_test = set(colnames_test) - set(colnames_train)\n",
    "\n",
    "X = X.drop(list(rm_train), axis=1)\n",
    "test = test.drop(list(rm_test), axis=1)\n",
    "\n",
    "y = df[\"health\"]"
   ]
  },
  {
   "cell_type": "code",
   "execution_count": 3,
   "id": "f9999ccf-ba6b-4a99-8aa9-17ed548474b6",
   "metadata": {},
   "outputs": [],
   "source": [
    "from sklearn.compose import ColumnTransformer\n",
    "from sklearn.impute import SimpleImputer\n",
    "from sklearn.preprocessing import OneHotEncoder\n",
    "from sklearn.preprocessing import MinMaxScaler\n",
    "from sklearn.pipeline import Pipeline\n",
    "\n",
    "# creating a pipeline to process data.\n",
    "# numerical data is imputed using the mean and scaled t be in [0,1].\n",
    "# categorical data is imputed by treating NA as a seperate category and one hot encoded.\n",
    "\n",
    "numeric_pipe = Pipeline([('imputer', SimpleImputer(strategy='mean')), ('scaler', MinMaxScaler())])\n",
    "categorical_pipe = Pipeline([('imputer', SimpleImputer(strategy='constant', fill_value=9999999)), ('ohe', OneHotEncoder(handle_unknown = \"ignore\"))])\n",
    "t = [('cat', categorical_pipe, categorical), ('num', numeric_pipe, numeric)]\n",
    "col_transform = ColumnTransformer(transformers=t)"
   ]
  },
  {
   "cell_type": "code",
   "execution_count": 4,
   "id": "f8b762f7-d60d-4e73-b971-a47e7a3c8f63",
   "metadata": {},
   "outputs": [],
   "source": [
    "from sklearn.neural_network import MLPClassifier\n",
    "\n",
    "# simple neural network.\n",
    "\n",
    "mlp = MLPClassifier(random_state=20803652, learning_rate_init=0.01, alpha=0.4, hidden_layer_sizes=1371, max_iter=1000)\n",
    "mlp_pipeline = Pipeline(steps=[('prep', col_transform), ('m', mlp)])"
   ]
  },
  {
   "cell_type": "code",
   "execution_count": 5,
   "id": "0c529449-1c30-4006-88ea-c370f6784072",
   "metadata": {},
   "outputs": [],
   "source": [
    "from sklearn.neighbors import KNeighborsClassifier\n",
    "\n",
    "# k-nearest neighbours.\n",
    "\n",
    "knn = KNeighborsClassifier(n_neighbors=261, n_jobs=-1)\n",
    "knn_pipeline = Pipeline(steps=[('prep', col_transform), ('m', knn)])"
   ]
  },
  {
   "cell_type": "code",
   "execution_count": 6,
   "id": "76b23a3e-fbd0-45e3-b681-fc956f6083a9",
   "metadata": {},
   "outputs": [],
   "source": [
    "from sklearn.linear_model import RidgeClassifier\n",
    "\n",
    "# ridge regression.\n",
    "\n",
    "ridge = RidgeClassifier(alpha = 525)\n",
    "ridge_pipeline = Pipeline(steps=[('prep', col_transform), ('m', ridge)])"
   ]
  },
  {
   "cell_type": "code",
   "execution_count": 7,
   "id": "5cfaf713-bf9a-468e-bff0-68cdec13ffd0",
   "metadata": {},
   "outputs": [],
   "source": [
    "from sklearn.ensemble import RandomForestClassifier\n",
    "\n",
    "# random forest\n",
    "\n",
    "rf = RandomForestClassifier(random_state=20803652, n_estimators=3600, oob_score=True, n_jobs=-1)\n",
    "rf_pipeline = Pipeline(steps=[('prep', col_transform), ('m', rf)])"
   ]
  },
  {
   "cell_type": "code",
   "execution_count": 8,
   "id": "94abb7f3-1f97-474f-ac04-e64d5cbf4614",
   "metadata": {},
   "outputs": [],
   "source": [
    "from sklearn.model_selection import GroupKFold\n",
    "from sklearn.ensemble import StackingClassifier\n",
    "from sklearn.linear_model import LogisticRegression\n",
    "\n",
    "# stacking all models using 5-fold validation and Logistic regression on probability outputs\n",
    "\n",
    "gkf = GroupKFold(n_splits=5).split(X, y, group)\n",
    "\n",
    "level0 = list()\n",
    "level0.append(('mlp', mlp_pipeline))\n",
    "level0.append(('knn', knn_pipeline))\n",
    "level0.append(('ridge', ridge_pipeline))\n",
    "level0.append(('rf', rf_pipeline))\n",
    "level1 = LogisticRegression(solver='sag')\n",
    "\n",
    "model = StackingClassifier(estimators=level0, final_estimator=level1, cv=gkf)\n",
    "fit = model.fit(X,y)\n",
    "predictions = fit.predict_proba(test)"
   ]
  },
  {
   "cell_type": "code",
   "execution_count": 9,
   "id": "d621ef04-5e05-43fa-a7eb-bf80edf20560",
   "metadata": {},
   "outputs": [],
   "source": [
    "# creating a csv file for submission\n",
    "\n",
    "pred = pd.DataFrame(predictions)\n",
    "df.insert(loc=0, column='uniqueid', value=uniqueid)\n",
    "pred.to_csv(\"submission.csv\", index=False)"
   ]
  },
  {
   "cell_type": "code",
   "execution_count": null,
   "id": "49771ef2-3b85-4c60-b075-6ef2b7218966",
   "metadata": {},
   "outputs": [],
   "source": []
  }
 ],
 "metadata": {
  "kernelspec": {
   "display_name": "Python 3",
   "language": "python",
   "name": "python3"
  },
  "language_info": {
   "codemirror_mode": {
    "name": "ipython",
    "version": 3
   },
   "file_extension": ".py",
   "mimetype": "text/x-python",
   "name": "python",
   "nbconvert_exporter": "python",
   "pygments_lexer": "ipython3",
   "version": "3.7.10"
  }
 },
 "nbformat": 4,
 "nbformat_minor": 5
}

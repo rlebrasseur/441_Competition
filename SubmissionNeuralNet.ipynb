{
 "cells": [
  {
   "cell_type": "code",
   "execution_count": 8,
   "id": "f0432537-fa09-46a9-b959-58a9a3b6156e",
   "metadata": {},
   "outputs": [],
   "source": [
    "import numpy as np\n",
    "import pandas as pd\n",
    "\n",
    "def which(self):\n",
    "    try:\n",
    "        self = list(iter(self))\n",
    "    except TypeError as e:\n",
    "        raise Exception(\"\"\"'which' method can only be applied to iterables.\n",
    "        {}\"\"\".format(str(e)))\n",
    "    indices = [i for i, x in enumerate(self) if bool(x) == True]\n",
    "    return(indices)\n",
    "\n",
    "cb = pd.read_csv(\"codebook-reworked.csv\")\n",
    "vartype = cb.vartype\n",
    "vartype = vartype[which(vartype != 0)]\n",
    "index = 0\n",
    "numeric = []\n",
    "categorical = []\n",
    "for i in vartype:\n",
    "    if i in [1,2,4,5]:\n",
    "        numeric.append(index)\n",
    "    if i == 3:\n",
    "        categorical.append(index)\n",
    "    index = index + 1"
   ]
  },
  {
   "cell_type": "code",
   "execution_count": 9,
   "id": "f07b22dc-52d7-4015-98b4-f2f8e90730df",
   "metadata": {},
   "outputs": [],
   "source": [
    "df = pd.read_csv(\"train.csv\")\n",
    "group = df[\"personid\"]\n",
    "df = df.drop(['uniqueid', 'personid'], axis=1)\n",
    "df = df.dropna(axis=1, how='all')\n",
    "\n",
    "X = df.drop([\"health\"], axis=1)\n",
    "colnames_train = X.columns\n",
    "\n",
    "test = pd.read_csv(\"test.csv\")\n",
    "test = test.dropna(axis=1, how='all')\n",
    "uniqueid = test['uniqueid']\n",
    "test = test.drop(['uniqueid', 'personid'], axis=1)\n",
    "colnames_test = test.columns\n",
    "\n",
    "rm_train = set(colnames_train) - set(colnames_test)\n",
    "rm_test = set(colnames_test) - set(colnames_train)\n",
    "\n",
    "X = X.drop(list(rm_train), axis=1)\n",
    "test = test.drop(list(rm_test), axis=1)\n",
    "\n",
    "y = df[\"health\"]"
   ]
  },
  {
   "cell_type": "code",
   "execution_count": 10,
   "id": "b0231b1f-0800-4eca-95b8-3278217270e3",
   "metadata": {},
   "outputs": [],
   "source": [
    "from sklearn.compose import ColumnTransformer\n",
    "from sklearn.impute import SimpleImputer\n",
    "from sklearn.preprocessing import OneHotEncoder\n",
    "from sklearn.preprocessing import MinMaxScaler\n",
    "from sklearn.pipeline import Pipeline\n",
    "\n",
    "numeric_pipe = Pipeline([('imputer', SimpleImputer(strategy='mean')), ('scaler', MinMaxScaler())])\n",
    "categorical_pipe = Pipeline([('imputer', SimpleImputer(strategy='constant', fill_value=9999999)), ('ohe', OneHotEncoder(handle_unknown = \"ignore\"))])\n",
    "t = [('cat', categorical_pipe, categorical), ('num', numeric_pipe, numeric)]\n",
    "col_transform = ColumnTransformer(transformers=t)"
   ]
  },
  {
   "cell_type": "code",
   "execution_count": 11,
   "id": "3f7a711c-bfa0-4912-9377-1188bcef6280",
   "metadata": {},
   "outputs": [],
   "source": [
    "from sklearn.neural_network import MLPClassifier\n",
    "\n",
    "model = MLPClassifier(random_state=20803652, learning_rate_init=0.01, alpha=0.4, hidden_layer_sizes=1371, max_iter=1000)\n",
    "mlp_pipeline = Pipeline(steps=[('prep',col_transform), ('m', model)])\n",
    "\n",
    "fit = mlp_pipeline.fit(X, y)\n",
    "predictions = fit.predict_proba(test)"
   ]
  },
  {
   "cell_type": "code",
   "execution_count": 12,
   "id": "6876f910-9b0e-4173-9594-ba96700d04cd",
   "metadata": {},
   "outputs": [],
   "source": [
    "# creating a submission file for best neural network model.\n",
    "\n",
    "pred = pd.DataFrame(predictions)\n",
    "df.insert(loc=0, column='uniqueid', value=uniqueid)\n",
    "pred.to_csv(\"submission-neural.csv\", index=False)"
   ]
  },
  {
   "cell_type": "code",
   "execution_count": null,
   "id": "c25ebdfd-655c-4cfe-b086-87f74ff5f4c2",
   "metadata": {},
   "outputs": [],
   "source": []
  }
 ],
 "metadata": {
  "kernelspec": {
   "display_name": "Python 3",
   "language": "python",
   "name": "python3"
  },
  "language_info": {
   "codemirror_mode": {
    "name": "ipython",
    "version": 3
   },
   "file_extension": ".py",
   "mimetype": "text/x-python",
   "name": "python",
   "nbconvert_exporter": "python",
   "pygments_lexer": "ipython3",
   "version": "3.7.10"
  }
 },
 "nbformat": 4,
 "nbformat_minor": 5
}

{
 "cells": [
  {
   "cell_type": "code",
   "execution_count": 1,
   "id": "8492e099-ab9d-4641-b776-17a592a66a42",
   "metadata": {},
   "outputs": [],
   "source": [
    "import pandas as pd\n",
    "import numpy as np\n",
    "\n",
    "df = pd.read_csv(\"train.csv\")\n",
    "df = df.drop(['uniqueid'], axis=1)"
   ]
  },
  {
   "cell_type": "code",
   "execution_count": 2,
   "id": "7bda4240-836a-4be4-a188-9a40188d7600",
   "metadata": {},
   "outputs": [],
   "source": [
    "# Selecting data from years 2005, and 2015\n",
    "\n",
    "df_5 = df[df.year.isin([2005, 2015])]\n",
    "X_5 = df_5.drop([\"health\"], axis=1)\n",
    "X_5 = X_5.dropna(axis=1, how='all')\n",
    "y_5 = df_5['health']"
   ]
  },
  {
   "cell_type": "code",
   "execution_count": 4,
   "id": "077103e5-6310-49a4-953e-df4777922d03",
   "metadata": {},
   "outputs": [],
   "source": [
    "from sklearn.impute import SimpleImputer\n",
    "from sklearn.preprocessing import MinMaxScaler\n",
    "\n",
    "# naive processing using mean to impute values and not differentiating between numerical and categorical data.\n",
    "\n",
    "imp = SimpleImputer(missing_values=np.nan, strategy='mean')\n",
    "imp.fit(X_5)\n",
    "X_5 = imp.transform(X_5)\n",
    "scaler = MinMaxScaler()\n",
    "X_5 = scaler.fit_transform(X_5)"
   ]
  },
  {
   "cell_type": "code",
   "execution_count": 5,
   "id": "91822b8b-bdbb-451e-a1f5-e1de60d1e1d9",
   "metadata": {},
   "outputs": [
    {
     "name": "stdout",
     "output_type": "stream",
     "text": [
      "Fitting 5 folds for each of 16 candidates, totalling 80 fits\n"
     ]
    },
    {
     "name": "stderr",
     "output_type": "stream",
     "text": [
      "[Parallel(n_jobs=-1)]: Using backend LokyBackend with 64 concurrent workers.\n",
      "[Parallel(n_jobs=-1)]: Done  34 out of  80 | elapsed:  1.3min remaining:  1.7min\n",
      "[Parallel(n_jobs=-1)]: Done  80 out of  80 | elapsed:  1.9min finished\n"
     ]
    },
    {
     "name": "stdout",
     "output_type": "stream",
     "text": [
      "-1.385594227464966\n",
      "{'alpha': 0, 'learning_rate_init': 0.1}\n"
     ]
    }
   ],
   "source": [
    "from sklearn.neural_network import MLPClassifier\n",
    "from sklearn.model_selection import GridSearchCV\n",
    "\n",
    "# training a neural network on this data.\n",
    "\n",
    "size_hl = int(np.floor((len(X_5[1])+5)/2))\n",
    "model = MLPClassifier(random_state=20803652, hidden_layer_sizes=(size_hl), max_iter=1000)\n",
    "param_grid = dict(learning_rate_init=[0.001, 0.01, 0.1, 0.2], alpha=[0, 0.0001, 0.001, 0.01])\n",
    "grid = GridSearchCV(estimator=model, param_grid=param_grid, scoring=\"neg_log_loss\", n_jobs=-1, verbose=1)\n",
    "grid_result = grid.fit(X_5, y_5)\n",
    "print(grid_result.best_score_)\n",
    "print(grid_result.best_params_)"
   ]
  },
  {
   "cell_type": "code",
   "execution_count": 6,
   "id": "6d12136e-48f6-423d-ac2b-1628814c595a",
   "metadata": {},
   "outputs": [],
   "source": [
    "# Selecting data from years 2007, and 2017\n",
    "\n",
    "df_7 = df[df.year.isin([2007, 2017])]\n",
    "X_7 = df_7.drop([\"health\"], axis=1)\n",
    "X_7 = X_7.dropna(axis=1, how='all')\n",
    "y_7 = df_7['health']"
   ]
  },
  {
   "cell_type": "code",
   "execution_count": 8,
   "id": "930caf2e-c36a-4a4f-b67c-a0fd24777dc8",
   "metadata": {},
   "outputs": [],
   "source": [
    "from sklearn.impute import SimpleImputer\n",
    "from sklearn.preprocessing import MinMaxScaler\n",
    "\n",
    "# naive processing using mean to impute values and not differentiating between numerical and categorical data.\n",
    "\n",
    "imp = SimpleImputer(missing_values=np.nan, strategy='mean')\n",
    "imp.fit(X_7)\n",
    "X_7 = imp.transform(X_7)\n",
    "scaler = MinMaxScaler()\n",
    "X_7 = scaler.fit_transform(X_7)"
   ]
  },
  {
   "cell_type": "code",
   "execution_count": 9,
   "id": "6ac88470-13bb-42ce-8a36-423a92a0f524",
   "metadata": {},
   "outputs": [
    {
     "name": "stdout",
     "output_type": "stream",
     "text": [
      "Fitting 5 folds for each of 16 candidates, totalling 80 fits\n"
     ]
    },
    {
     "name": "stderr",
     "output_type": "stream",
     "text": [
      "[Parallel(n_jobs=-1)]: Using backend LokyBackend with 64 concurrent workers.\n",
      "[Parallel(n_jobs=-1)]: Done  34 out of  80 | elapsed:  1.3min remaining:  1.7min\n",
      "[Parallel(n_jobs=-1)]: Done  80 out of  80 | elapsed:  1.9min finished\n"
     ]
    },
    {
     "name": "stdout",
     "output_type": "stream",
     "text": [
      "-1.3855417612324135\n",
      "{'alpha': 0, 'learning_rate_init': 0.1}\n"
     ]
    }
   ],
   "source": [
    "from sklearn.neural_network import MLPClassifier\n",
    "from sklearn.model_selection import GridSearchCV\n",
    "\n",
    "# training a neural network on this data.\n",
    "\n",
    "size_hl = int(np.floor((len(X_7[1])+5)/2))\n",
    "model = MLPClassifier(random_state=20803652, hidden_layer_sizes=(size_hl), max_iter=1000)\n",
    "param_grid = dict(learning_rate_init=[0.001, 0.01, 0.1, 0.2], alpha=[0, 0.0001, 0.001, 0.01])\n",
    "grid = GridSearchCV(estimator=model, param_grid=param_grid, scoring=\"neg_log_loss\", n_jobs=-1, verbose=1)\n",
    "grid_result = grid.fit(X_7, y_7)\n",
    "print(grid_result.best_score_)\n",
    "print(grid_result.best_params_)"
   ]
  },
  {
   "cell_type": "code",
   "execution_count": 10,
   "id": "340682c4-bfdf-40b0-9393-17e14d7371d3",
   "metadata": {},
   "outputs": [],
   "source": [
    "# Selecting data from years 2009, and 2019\n",
    "\n",
    "df_9 = df[df.year.isin([2009, 2019])]\n",
    "X_9 = df_9.drop([\"health\"], axis=1)\n",
    "X_9 = X_9.dropna(axis=1, how='all')\n",
    "y_9 = df_9['health']"
   ]
  },
  {
   "cell_type": "code",
   "execution_count": 11,
   "id": "b3a57412-3cf7-43cb-a8b1-66597729978a",
   "metadata": {},
   "outputs": [],
   "source": [
    "from sklearn.impute import SimpleImputer\n",
    "from sklearn.preprocessing import MinMaxScaler\n",
    "\n",
    "# naive processing using mean to impute values and not differentiating between numerical and categorical data.\n",
    "\n",
    "imp = SimpleImputer(missing_values=np.nan, strategy='mean')\n",
    "imp.fit(X_9)\n",
    "X_9 = imp.transform(X_9)\n",
    "scaler = MinMaxScaler()\n",
    "X_9 = scaler.fit_transform(X_9)"
   ]
  },
  {
   "cell_type": "code",
   "execution_count": 12,
   "id": "4b5d53ed-18ff-4c97-af9d-3aacb170cd19",
   "metadata": {},
   "outputs": [
    {
     "name": "stdout",
     "output_type": "stream",
     "text": [
      "Fitting 5 folds for each of 16 candidates, totalling 80 fits\n"
     ]
    },
    {
     "name": "stderr",
     "output_type": "stream",
     "text": [
      "[Parallel(n_jobs=-1)]: Using backend LokyBackend with 64 concurrent workers.\n",
      "[Parallel(n_jobs=-1)]: Done  34 out of  80 | elapsed:   28.4s remaining:   38.4s\n",
      "[Parallel(n_jobs=-1)]: Done  80 out of  80 | elapsed:   44.6s finished\n"
     ]
    },
    {
     "name": "stdout",
     "output_type": "stream",
     "text": [
      "-1.4034524025713755\n",
      "{'alpha': 0.01, 'learning_rate_init': 0.1}\n"
     ]
    }
   ],
   "source": [
    "from sklearn.neural_network import MLPClassifier\n",
    "from sklearn.model_selection import GridSearchCV\n",
    "\n",
    "# training a neural network on this data.\n",
    "\n",
    "size_hl = int(np.floor((len(X_9[1])+5)/2))\n",
    "model = MLPClassifier(random_state=20803652, hidden_layer_sizes=(size_hl), max_iter=1000)\n",
    "param_grid = dict(learning_rate_init=[0.001, 0.01, 0.1, 0.2], alpha=[0, 0.0001, 0.001, 0.01])\n",
    "grid = GridSearchCV(estimator=model, param_grid=param_grid, scoring=\"neg_log_loss\", n_jobs=-1, verbose=1)\n",
    "grid_result = grid.fit(X_9, y_9)\n",
    "print(grid_result.best_score_)\n",
    "print(grid_result.best_params_)"
   ]
  },
  {
   "cell_type": "code",
   "execution_count": null,
   "id": "645c24cd-c570-4b90-b754-ebd421a04562",
   "metadata": {},
   "outputs": [],
   "source": []
  }
 ],
 "metadata": {
  "kernelspec": {
   "display_name": "Python 3",
   "language": "python",
   "name": "python3"
  },
  "language_info": {
   "codemirror_mode": {
    "name": "ipython",
    "version": 3
   },
   "file_extension": ".py",
   "mimetype": "text/x-python",
   "name": "python",
   "nbconvert_exporter": "python",
   "pygments_lexer": "ipython3",
   "version": "3.7.10"
  }
 },
 "nbformat": 4,
 "nbformat_minor": 5
}
